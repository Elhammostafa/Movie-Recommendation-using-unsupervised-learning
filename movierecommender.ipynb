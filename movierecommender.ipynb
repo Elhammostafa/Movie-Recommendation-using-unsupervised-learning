{
  "cells": [
    {
      "cell_type": "markdown",
      "metadata": {
        "id": "view-in-github",
        "colab_type": "text"
      },
      "source": [
        "<a href=\"https://colab.research.google.com/github/Elhammostafa/Movie-Recommendation-using-unsupervised-learning/blob/main/movierecommender.ipynb\" target=\"_parent\"><img src=\"https://colab.research.google.com/assets/colab-badge.svg\" alt=\"Open In Colab\"/></a>"
      ]
    },
    {
      "cell_type": "markdown",
      "id": "c5a54767",
      "metadata": {
        "id": "c5a54767"
      },
      "source": [
        "<div align=\"center\" style=\" font-size: 80%; text-align: center; margin: 0 auto\">\n",
        "<img src=\"https://raw.githubusercontent.com/Explore-AI/Pictures/master/Python-Notebook-Banners/Examples.png\"  style=\"display: block; margin-left: auto; margin-right: auto;\";/>\n",
        "</div>"
      ]
    },
    {
      "cell_type": "markdown",
      "id": "diagnostic-privacy",
      "metadata": {
        "papermill": {
          "duration": 0.012314,
          "end_time": "2021-06-14T11:19:49.342358",
          "exception": false,
          "start_time": "2021-06-14T11:19:49.330044",
          "status": "completed"
        },
        "tags": [],
        "id": "diagnostic-privacy"
      },
      "source": [
        "# Introduction\n",
        "\n",
        "The followig aims to get you up and running with the predict.\n",
        "Make a copy of the notebook and run all cells. We will also show you how to get your submission file from kaggle."
      ]
    },
    {
      "cell_type": "code",
      "execution_count": null,
      "id": "seasonal-musical",
      "metadata": {
        "_cell_guid": "b1076dfc-b9ad-4769-8c92-a6c4dae69d19",
        "_uuid": "8f2839f25d086af736a60e9eeb907d3b93b6e0e5",
        "execution": {
          "iopub.execute_input": "2021-06-14T11:19:49.368292Z",
          "iopub.status.busy": "2021-06-14T11:19:49.367341Z",
          "iopub.status.idle": "2021-06-14T11:19:49.377976Z",
          "shell.execute_reply": "2021-06-14T11:19:49.378408Z",
          "shell.execute_reply.started": "2021-06-14T11:18:06.298343Z"
        },
        "papermill": {
          "duration": 0.024972,
          "end_time": "2021-06-14T11:19:49.378659",
          "exception": false,
          "start_time": "2021-06-14T11:19:49.353687",
          "status": "completed"
        },
        "tags": [],
        "id": "seasonal-musical"
      },
      "outputs": [],
      "source": [
        "# This Python 3 environment comes with many helpful analytics libraries installed\n",
        "# It is defined by the kaggle/python Docker image: https://github.com/kaggle/docker-python\n",
        "# For example, here's several helpful packages to load\n",
        "\n",
        "import numpy as np # linear algebra\n",
        "import pandas as pd # data processing, CSV file I/O (e.g. pd.read_csv)\n",
        "\n",
        "# Input data files are available in the read-only \"../input/\" directory\n",
        "# For example, running this (by clicking run or pressing Shift+Enter) will list all files under the input directory\n",
        "\n",
        "import os\n",
        "for dirname, _, filenames in os.walk('/kaggle/input'):\n",
        "    for filename in filenames:\n",
        "        print(os.path.join(dirname, filename))\n",
        "\n",
        "# You can write up to 20GB to the current directory (/kaggle/working/) that gets preserved as output when you create a version using \"Save & Run All\"\n",
        "# You can also write temporary files to /kaggle/temp/, but they won't be saved outside of the current session"
      ]
    },
    {
      "cell_type": "markdown",
      "id": "alien-ability",
      "metadata": {
        "papermill": {
          "duration": 0.011326,
          "end_time": "2021-06-14T11:19:49.401974",
          "exception": false,
          "start_time": "2021-06-14T11:19:49.390648",
          "status": "completed"
        },
        "tags": [],
        "id": "alien-ability"
      },
      "source": [
        "## Installing packages\n",
        "Please download all relevant packages in. There is no terminal so you will pip install everything.\n",
        "\n",
        "You can find a list of recommended install from the Intro to Recommender sysytem notebook."
      ]
    },
    {
      "cell_type": "code",
      "execution_count": null,
      "id": "third-pregnancy",
      "metadata": {
        "execution": {
          "iopub.execute_input": "2021-06-14T11:19:49.433460Z",
          "iopub.status.busy": "2021-06-14T11:19:49.432872Z",
          "iopub.status.idle": "2021-06-14T11:19:50.487854Z",
          "shell.execute_reply": "2021-06-14T11:19:50.487374Z",
          "shell.execute_reply.started": "2021-06-06T09:45:12.506175Z"
        },
        "papermill": {
          "duration": 1.07453,
          "end_time": "2021-06-14T11:19:50.487990",
          "exception": false,
          "start_time": "2021-06-14T11:19:49.413460",
          "status": "completed"
        },
        "tags": [],
        "id": "third-pregnancy"
      },
      "outputs": [],
      "source": [
        "# Install packages here\n",
        "# Packages for data processing\n",
        "import numpy as np\n",
        "import pandas as pd\n",
        "import datetime\n",
        "from sklearn import preprocessing\n",
        "from sklearn.datasets import make_blobs\n",
        "from sklearn.preprocessing import StandardScaler\n",
        "from sklearn.feature_extraction.text import TfidfVectorizer\n",
        "from sklearn.metrics.pairwise import cosine_similarity\n",
        "import re\n",
        "from scipy.sparse import csr_matrix\n",
        "import scipy as sp\n",
        "\n",
        "\n",
        "# Packages for visualization\n",
        "import matplotlib.pyplot as plt\n",
        "import seaborn as sns\n",
        "%matplotlib inline\n",
        "\n",
        "# Packages for modeling\n",
        "from surprise import Reader\n",
        "from surprise import Dataset\n",
        "from surprise import KNNWithMeans\n",
        "from surprise import KNNBasic\n",
        "from surprise.model_selection import cross_validate\n",
        "from surprise.model_selection import GridSearchCV\n",
        "from surprise import SVD\n",
        "from surprise import SVDpp\n",
        "from surprise import NMF\n",
        "from surprise import SlopeOne\n",
        "from surprise import CoClustering\n",
        "import heapq\n",
        "\n",
        "# Packages for model evaluation\n",
        "from sklearn.metrics import mean_squared_error\n",
        "from sklearn.metrics import mean_absolute_error\n",
        "from time import time\n",
        "\n",
        "# Package to suppress warnings\n",
        "import warnings\n",
        "warnings.filterwarnings(\"ignore\")\n",
        "\n",
        "# Packages for saving models\n",
        "import pickle"
      ]
    },
    {
      "cell_type": "markdown",
      "id": "reasonable-space",
      "metadata": {
        "papermill": {
          "duration": 0.011369,
          "end_time": "2021-06-14T11:19:50.511223",
          "exception": false,
          "start_time": "2021-06-14T11:19:50.499854",
          "status": "completed"
        },
        "tags": [],
        "id": "reasonable-space"
      },
      "source": [
        "## Reading in data"
      ]
    },
    {
      "cell_type": "code",
      "execution_count": null,
      "id": "charming-favorite",
      "metadata": {
        "execution": {
          "iopub.execute_input": "2021-06-14T11:19:50.540712Z",
          "iopub.status.busy": "2021-06-14T11:19:50.540043Z",
          "iopub.status.idle": "2021-06-14T11:20:08.370886Z",
          "shell.execute_reply": "2021-06-14T11:20:08.371333Z",
          "shell.execute_reply.started": "2021-06-06T09:35:50.49335Z"
        },
        "papermill": {
          "duration": 17.847754,
          "end_time": "2021-06-14T11:20:08.371525",
          "exception": false,
          "start_time": "2021-06-14T11:19:50.523771",
          "status": "completed"
        },
        "tags": [],
        "id": "charming-favorite"
      },
      "outputs": [],
      "source": [
        "train_df = pd.read_csv('/kaggle/input/alx-movie-recommendation-project-2024/train.csv')\n",
        "movies_df = pd.read_csv('/kaggle/input/alx-movie-recommendation-project-2024/movies.csv')\n",
        "imdb_df = pd.read_csv('/kaggle/input/alx-movie-recommendation-project-2024/imdb_data.csv')\n",
        "test_df = pd.read_csv('/kaggle/input/alx-movie-recommendation-project-2024/test.csv')\n",
        "links_df = pd.read_csv('/kaggle/input/alx-movie-recommendation-project-2024/links.csv')\n",
        "tags = pd.read_csv('/kaggle/input/alx-movie-recommendation-project-2024/tags.csv')\n",
        "genome_scores = pd.read_csv('/kaggle/input/alx-movie-recommendation-project-2024/genome_scores.csv')\n",
        "genome_tags = pd.read_csv('/kaggle/input/alx-movie-recommendation-project-2024/genome_tags.csv')\n",
        "sample_submissions = pd.read_csv('/kaggle/input/alx-movie-recommendation-project-2024/sample_submission.csv')"
      ]
    },
    {
      "cell_type": "code",
      "execution_count": null,
      "id": "alien-desperate",
      "metadata": {
        "execution": {
          "iopub.execute_input": "2021-06-14T11:20:08.397787Z",
          "iopub.status.busy": "2021-06-14T11:20:08.397272Z",
          "iopub.status.idle": "2021-06-14T11:20:08.420726Z",
          "shell.execute_reply": "2021-06-14T11:20:08.420308Z",
          "shell.execute_reply.started": "2021-06-06T09:36:13.589735Z"
        },
        "papermill": {
          "duration": 0.037338,
          "end_time": "2021-06-14T11:20:08.420852",
          "exception": false,
          "start_time": "2021-06-14T11:20:08.383514",
          "status": "completed"
        },
        "tags": [],
        "id": "alien-desperate"
      },
      "outputs": [],
      "source": [
        "movies_df.head()"
      ]
    },
    {
      "cell_type": "code",
      "execution_count": null,
      "id": "incorporated-respondent",
      "metadata": {
        "execution": {
          "iopub.execute_input": "2021-06-14T11:20:08.453945Z",
          "iopub.status.busy": "2021-06-14T11:20:08.453387Z",
          "iopub.status.idle": "2021-06-14T11:20:08.456331Z",
          "shell.execute_reply": "2021-06-14T11:20:08.455811Z",
          "shell.execute_reply.started": "2021-06-06T10:02:45.481641Z"
        },
        "papermill": {
          "duration": 0.023503,
          "end_time": "2021-06-14T11:20:08.456451",
          "exception": false,
          "start_time": "2021-06-14T11:20:08.432948",
          "status": "completed"
        },
        "tags": [],
        "id": "incorporated-respondent"
      },
      "outputs": [],
      "source": [
        "movies_df.shape"
      ]
    },
    {
      "cell_type": "markdown",
      "id": "parliamentary-saturn",
      "metadata": {
        "papermill": {
          "duration": 0.011896,
          "end_time": "2021-06-14T11:20:08.480518",
          "exception": false,
          "start_time": "2021-06-14T11:20:08.468622",
          "status": "completed"
        },
        "tags": [],
        "id": "parliamentary-saturn"
      },
      "source": [
        "## EDA\n",
        "\n",
        "\n",
        "### Outliers\n",
        "- **Identify outliers**: Outliers are data points that differ significantly from other observations. They can skew and mislead the training process of a machine learning model.\n",
        "- **Detecting outliers**: Use statistical methods such as Z-scores or IQR (Interquartile Range) to detect outliers.\n",
        "- **Handling outliers**: Decide whether to remove or transform the outliers depending on their impact on the dataset.\n",
        "\n",
        "### Understanding Relationships Between Various Attributes and Structure of the Data\n",
        "- **Correlation Analysis**: Use correlation matrices to understand the relationships between numerical attributes.\n",
        "- **Visualization Techniques**: Employ scatter plots, pair plots, and heatmaps to visualize and explore relationships.\n",
        "- **Data Structure**: Understand the structure of the data, including the distribution of values and the presence of any missing values.\n",
        "\n",
        "### Recognizing Important Variables\n",
        "- **Feature Importance**: Use techniques like Random Forests, Gradient Boosting, or SHAP values to determine feature importance.\n",
        "- **Domain Knowledge**: Incorporate domain expertise to identify which variables are likely to be important.\n",
        "- **Statistical Tests**: Conduct statistical tests to identify variables that have significant effects on the target variable.\n",
        "\n",
        "By understanding the data through these steps, we ensure a robust foundation for building and evaluating machine learning models.\n"
      ]
    },
    {
      "cell_type": "markdown",
      "id": "66d42217",
      "metadata": {
        "id": "66d42217"
      },
      "source": [
        "**Lets Check whether or not we have any missing values in our dataset**"
      ]
    },
    {
      "cell_type": "code",
      "execution_count": null,
      "id": "2e31dda3",
      "metadata": {
        "id": "2e31dda3"
      },
      "outputs": [],
      "source": [
        "print(\"Train: \")\n",
        "print(str(train_df.isnull().sum()))\n",
        "print(\"************\")\n",
        "print(\"Test: \")\n",
        "print(str(test_df.isnull().sum()))\n",
        "print(\"************\")\n",
        "print(\"Movies: \")\n",
        "print(str(movies_df.isnull().sum()))\n",
        "print(\"************\")\n",
        "print(\"Links: \")\n",
        "print(str(links_df.isnull().sum()))\n",
        "print(\"************\")\n",
        "print(\"IMDB: \")\n",
        "print(str(imdb_df.isnull().sum()))\n",
        "print(\"************\")\n",
        "print(\"Genome scores: \")\n",
        "print(str(genome_scores.isnull().sum()))\n",
        "print(\"************\")\n",
        "print(\"Genome tags: \")\n",
        "print(str(genome_tags.isnull().sum()))"
      ]
    },
    {
      "cell_type": "markdown",
      "id": "french-cooler",
      "metadata": {
        "papermill": {
          "duration": 0.012939,
          "end_time": "2021-06-14T11:20:09.159029",
          "exception": false,
          "start_time": "2021-06-14T11:20:09.146090",
          "status": "completed"
        },
        "tags": [],
        "id": "french-cooler"
      },
      "source": [
        "## Data Preparation"
      ]
    },
    {
      "cell_type": "markdown",
      "id": "58f5e907",
      "metadata": {
        "id": "58f5e907"
      },
      "source": [
        "Data preparation is the process of preparing raw data so that it is suitable for further processing and analysis. Key steps include:\n",
        "\n",
        "- **Collecting**: Gathering raw data from various sources.\n",
        "- **Cleaning**: Removing or correcting any errors or inconsistencies in the data. This includes handling missing values, correcting data types, and removing duplicates.\n",
        "- **Labeling**: Annotating data with labels that are required for supervised machine learning tasks. This involves identifying and marking the target variable.\n",
        "- **Transforming**: Converting raw data into a format that is suitable for analysis. This includes normalization, scaling, encoding categorical variables, and feature engineering.\n",
        "- **Exploring**: Analyzing the data to understand its structure and relationships. This step includes generating descriptive statistics and visualizing the data to identify patterns and insights.\n",
        "- **Visualizing**: Creating graphical representations of the data to better understand distributions, trends, and relationships among variables. Common techniques include histograms, bar charts, scatter plots, and heatmaps.\n",
        "\n",
        "By following these steps, raw data is transformed into a structured format that is ready for machine learning algorithms and further analysis.\n"
      ]
    },
    {
      "cell_type": "code",
      "execution_count": null,
      "id": "2d8bebfc",
      "metadata": {
        "id": "2d8bebfc"
      },
      "outputs": [],
      "source": [
        "movies_df.head()"
      ]
    },
    {
      "cell_type": "code",
      "execution_count": null,
      "id": "f85d2997",
      "metadata": {
        "id": "f85d2997"
      },
      "outputs": [],
      "source": [
        "train_df.head()"
      ]
    },
    {
      "cell_type": "code",
      "execution_count": null,
      "id": "3fa34c6a",
      "metadata": {
        "id": "3fa34c6a"
      },
      "outputs": [],
      "source": [
        "test_df.head()"
      ]
    },
    {
      "cell_type": "code",
      "execution_count": null,
      "id": "polish-retro",
      "metadata": {
        "execution": {
          "iopub.execute_input": "2021-06-14T11:20:09.188377Z",
          "iopub.status.busy": "2021-06-14T11:20:09.187869Z",
          "iopub.status.idle": "2021-06-14T11:20:09.190673Z",
          "shell.execute_reply": "2021-06-14T11:20:09.191184Z",
          "shell.execute_reply.started": "2021-06-06T09:47:42.880914Z"
        },
        "papermill": {
          "duration": 0.018806,
          "end_time": "2021-06-14T11:20:09.191326",
          "exception": false,
          "start_time": "2021-06-14T11:20:09.172520",
          "status": "completed"
        },
        "tags": [],
        "id": "polish-retro"
      },
      "outputs": [],
      "source": [
        "# Create dataframe containing only the movieId and genres\n",
        "movies_genres = pd.DataFrame(movies_df[['movieId', 'genres']],\n",
        "                             columns=['movieId', 'genres'])\n",
        "\n",
        "# Split genres seperated by \"|\" and create a list containing the genres allocated to each movie\n",
        "movies_genres.genres = movies_genres.genres.apply(lambda x: x.split('|'))\n",
        "\n",
        "# Create expanded dataframe where each movie-genre combination is in a seperate row\n",
        "movies_genres = pd.DataFrame([(tup.movieId, d) for tup in movies_genres.itertuples() for d in tup.genres],\n",
        "                             columns=['movieId', 'genres'])\n",
        "\n",
        "movies_genres.head()"
      ]
    },
    {
      "cell_type": "markdown",
      "id": "8af5aa4f",
      "metadata": {
        "id": "8af5aa4f"
      },
      "source": [
        "**Lets plot genres from most common to least common**"
      ]
    },
    {
      "cell_type": "code",
      "execution_count": null,
      "id": "37b7a1f4",
      "metadata": {
        "scrolled": true,
        "id": "37b7a1f4"
      },
      "outputs": [],
      "source": [
        "plot = plt.figure(figsize=(15, 10))\n",
        "plt.title('Most common genres\\n', fontsize=20)\n",
        "sns.countplot(y=\"genres\", data=movies_genres,\n",
        "              order=movies_genres['genres'].value_counts(ascending=False).index,\n",
        "              palette='Reds_r')\n",
        "plt.show()"
      ]
    },
    {
      "cell_type": "markdown",
      "id": "agricultural-episode",
      "metadata": {
        "papermill": {
          "duration": 0.013398,
          "end_time": "2021-06-14T11:20:09.218336",
          "exception": false,
          "start_time": "2021-06-14T11:20:09.204938",
          "status": "completed"
        },
        "tags": [],
        "id": "agricultural-episode"
      },
      "source": [
        "## Modelling phase\n",
        " You only need to apply one version\n",
        "be it Content based or Collabrative method\n",
        "\n"
      ]
    },
    {
      "cell_type": "code",
      "execution_count": null,
      "id": "relevant-uganda",
      "metadata": {
        "execution": {
          "iopub.execute_input": "2021-06-14T11:20:09.248235Z",
          "iopub.status.busy": "2021-06-14T11:20:09.247715Z",
          "iopub.status.idle": "2021-06-14T11:20:09.250599Z",
          "shell.execute_reply": "2021-06-14T11:20:09.251034Z",
          "shell.execute_reply.started": "2021-06-06T09:55:07.155448Z"
        },
        "papermill": {
          "duration": 0.019188,
          "end_time": "2021-06-14T11:20:09.251198",
          "exception": false,
          "start_time": "2021-06-14T11:20:09.232010",
          "status": "completed"
        },
        "tags": [],
        "id": "relevant-uganda"
      },
      "outputs": [],
      "source": [
        "import pandas as pd\n",
        "from surprise import Reader, Dataset, SVD, accuracy\n",
        "from surprise.model_selection import train_test_split\n",
        "\n",
        "# Sample books data\n",
        "books_data = {\n",
        "    'bookId': [1, 2, 3, 4, 5, 6, 7],\n",
        "    'title': ['To Kill a Mockingbird', '1984', 'The Great Gatsby', 'Pride and Prejudice', 'The Catcher in the Rye', 'Animal farm'\n",
        "              ,'Harry Potter']\n",
        "}\n",
        "\n",
        "# Create the books DataFrame\n",
        "books = pd.DataFrame(books_data)\n",
        "\n",
        "# Sample user profiles\n",
        "user_profiles = {\n",
        "    1: {'bookId': [2, 3, 4], 'rating': [5, 4, 3]},\n",
        "    2: {'bookId': [1, 3, 5], 'rating': [4, 5, 3]}\n",
        "}\n",
        "\n",
        "# Combine user profiles into a single DataFrame\n",
        "all_ratings = []\n",
        "\n",
        "for user_id, profile in user_profiles.items():\n",
        "    for book_id, rating in zip(profile['bookId'], profile['rating']):\n",
        "        all_ratings.append({'userId': user_id, 'bookId': book_id, 'rating': rating})\n",
        "\n",
        "ratings_df = pd.DataFrame(all_ratings)\n",
        "\n",
        "# Define the Reader and Dataset\n",
        "reader = Reader(rating_scale=(0.5, 5.0))\n",
        "data = Dataset.load_from_df(ratings_df[['userId', 'bookId', 'rating']], reader)\n"
      ]
    },
    {
      "cell_type": "markdown",
      "source": [
        "## Lets Build and Evaluate Our Model"
      ],
      "metadata": {
        "id": "n-LXiY5DoGrp"
      },
      "id": "n-LXiY5DoGrp"
    },
    {
      "cell_type": "code",
      "execution_count": null,
      "id": "1d68a1e7",
      "metadata": {
        "id": "1d68a1e7"
      },
      "outputs": [],
      "source": [
        "# Split the data into training and test sets\n",
        "trainset, testset = train_test_split(data, test_size=0.2, )\n",
        "\n",
        "# Train the SVD model\n",
        "svd = SVD()\n",
        "svd.fit(trainset)\n",
        "\n",
        "# Make predictions on the test set\n",
        "predictions = svd.test(testset)\n",
        "\n",
        "# Compute and print the RMSE\n",
        "rmse = accuracy.rmse(predictions)\n",
        "print(f\"RMSE: {rmse}\")\n",
        "\n",
        "pred = pd.DataFrame(predictions)\n",
        "pred"
      ]
    },
    {
      "cell_type": "markdown",
      "id": "6fb0645b",
      "metadata": {
        "id": "6fb0645b"
      },
      "source": [
        "## Recommendation Function"
      ]
    },
    {
      "cell_type": "code",
      "execution_count": null,
      "id": "84999207",
      "metadata": {
        "id": "84999207"
      },
      "outputs": [],
      "source": [
        "# Function to get collaborative recommendations for a user profile\n",
        "def get_collaborative_recommendations(user_id, svd, books, ratings_df, n=10):\n",
        "    recommendations = []\n",
        "    book_ids = books['bookId'].unique()\n",
        "\n",
        "    for book_id in book_ids:\n",
        "        prediction = svd.predict(user_id, book_id)\n",
        "        actual_rating = ratings_df[(ratings_df['userId'] == user_id) & (ratings_df['bookId'] == book_id)]['rating']\n",
        "        actual_rating = actual_rating.values[0] if not actual_rating.empty else None\n",
        "        recommendations.append((books[books['bookId'] == book_id]['title'].values[0], prediction.est, actual_rating))\n",
        "\n",
        "    recommendations = sorted(recommendations, key=lambda x: x[1], reverse=True)\n",
        "\n",
        "    return recommendations[:n]\n",
        "\n",
        "# Generate recommendations for each user profile and collect them in a list\n",
        "all_recommendations = []\n",
        "\n",
        "for user_id in user_profiles.keys():\n",
        "    recommendations = get_collaborative_recommendations(user_id, svd, books, ratings_df)\n",
        "    for title, predicted_rating, actual_rating in recommendations:\n",
        "        all_recommendations.append({\n",
        "            'userId': user_id,\n",
        "            'Recommended Book': title,\n",
        "            'Predicted_Rating': predicted_rating,\n",
        "            'Actual Rating': actual_rating\n",
        "        })\n",
        "\n",
        "# Convert the list of recommendations to a DataFrame\n",
        "recommendations_df = pd.DataFrame(all_recommendations)\n",
        "\n",
        "recommendations_df"
      ]
    },
    {
      "cell_type": "markdown",
      "id": "robust-burton",
      "metadata": {
        "papermill": {
          "duration": 0.013848,
          "end_time": "2021-06-14T11:20:09.278819",
          "exception": false,
          "start_time": "2021-06-14T11:20:09.264971",
          "status": "completed"
        },
        "tags": [],
        "id": "robust-burton"
      },
      "source": [
        "# Generate your outputs here"
      ]
    },
    {
      "cell_type": "markdown",
      "id": "sustained-lawsuit",
      "metadata": {
        "papermill": {
          "duration": 0.013303,
          "end_time": "2021-06-14T11:20:09.305786",
          "exception": false,
          "start_time": "2021-06-14T11:20:09.292483",
          "status": "completed"
        },
        "tags": [],
        "id": "sustained-lawsuit"
      },
      "source": [
        "Prepare Submission File\n",
        "We make submissions in CSV files. Your submissions usually have two columns: an ID column and a prediction column. The ID field comes from the test data (keeping whatever name the ID field had in that data, which for the data is the string 'Id'). The prediction column will use the name of the target field.\n",
        "\n",
        "We will create a DataFrame with this data, and then use the dataframe's to_csv method to write our submission file. Explicitly include the argument index=False to prevent pandas from adding another column in our csv file."
      ]
    },
    {
      "cell_type": "code",
      "execution_count": null,
      "id": "major-gossip",
      "metadata": {
        "execution": {
          "iopub.execute_input": "2021-06-14T11:20:09.335627Z",
          "iopub.status.busy": "2021-06-14T11:20:09.335122Z",
          "iopub.status.idle": "2021-06-14T11:20:09.338042Z",
          "shell.execute_reply": "2021-06-14T11:20:09.338540Z"
        },
        "papermill": {
          "duration": 0.019235,
          "end_time": "2021-06-14T11:20:09.338682",
          "exception": false,
          "start_time": "2021-06-14T11:20:09.319447",
          "status": "completed"
        },
        "tags": [],
        "id": "major-gossip"
      },
      "outputs": [],
      "source": [
        "# This is an example\n",
        "my_submission = pd.DataFrame({'id': recommendations_df.userId,'predict': recommendations_df.Predicted_Rating})\n",
        "#you could use any filename. We choose submission here\n",
        "my_submission.to_csv('submission.csv', index=False)"
      ]
    },
    {
      "cell_type": "markdown",
      "id": "1661282b",
      "metadata": {
        "papermill": {
          "duration": 0.013439,
          "end_time": "2021-06-14T11:20:09.498408",
          "exception": false,
          "start_time": "2021-06-14T11:20:09.484969",
          "status": "completed"
        },
        "tags": [],
        "id": "1661282b"
      },
      "source": [
        "# Tips\n",
        "- NB:Read the description well\n",
        "    - REMEMBER: Concatenated ID\n",
        "    - Evatualtion metrics\n",
        "- Sampling is your friend -> start small and scale up\n",
        "- Data ingestioon, pleasse ensure the correct path is dependant on the environment\n",
        "- Ensure test output matches dimension of test set for Kaggle submission\n",
        "- 20 Submissions per day\n",
        "- This is individual project\n",
        "- Ensure email correlates to Athena for effective tracking\n",
        "- If you use a shuffler ensure test output aligns with test sample ordering\n",
        "  - (from sklearn.utils import shuffle), for randomness\n",
        "- Make sure your notebook is in the same folder\n",
        "- Analyse your data well\n",
        "- Make sure you have gone through your content\n"
      ]
    },
    {
      "cell_type": "code",
      "source": [
        "# Import necessary libraries\n",
        "import pandas as pd\n",
        "import numpy as np\n",
        "import matplotlib.pyplot as plt\n",
        "# Packages for modeling\n",
        "import surprise\n",
        "from surprise import Reader\n",
        "from surprise import Dataset\n",
        "from surprise import KNNWithMeans\n",
        "from surprise import KNNBasic\n",
        "from surprise.model_selection import cross_validate\n",
        "from surprise.model_selection import GridSearchCV\n",
        "from surprise import SVD\n",
        "from surprise import SVDpp\n",
        "from surprise import NMF\n",
        "from surprise import SlopeOne\n",
        "from surprise import CoClustering\n",
        "import heapq\n",
        "\n",
        "\n",
        "# Step 1: Data Loading and Initial Exploration\n",
        "\n",
        "# Load the datasets\n",
        "train = pd.read_csv('/content/sample_data/Untitled/train.csv')\n",
        "test = pd.read_csv('/path/to/test.csv')\n",
        "movies = pd.read_csv('/path/to/movies.csv')\n",
        "tags = pd.read_csv('/path/to/tags.csv')\n",
        "links = pd.read_csv('/path/to/links.csv')\n",
        "genome_scores = pd.read_csv('/path/to/genome_scores.csv')\n",
        "genome_tags = pd.read_csv('/path/to/genome_tags.csv')\n",
        "imdb_data = pd.read_csv('/path/to/imdb_data.csv')\n",
        "\n",
        "# Display the first few rows of each dataset\n",
        "print(\"Train Data:\")\n",
        "print(train.head())\n",
        "\n",
        "print(\"\\nTest Data:\")\n",
        "print(test.head())\n",
        "\n",
        "print(\"\\nMovies Data:\")\n",
        "print(movies.head())\n",
        "\n",
        "print(\"\\nTags Data:\")\n",
        "print(tags.head())\n",
        "\n",
        "print(\"\\nLinks Data:\")\n",
        "print(links.head())\n",
        "\n",
        "print(\"\\nGenome Scores Data:\")\n",
        "print(genome_scores.head())\n",
        "\n",
        "print(\"\\nGenome Tags Data:\")\n",
        "print(genome_tags.head())\n",
        "\n",
        "print(\"\\nIMDB Data:\")\n",
        "print(imdb_data.head())\n",
        "\n",
        "# Step 2: Exploratory Data Analysis (EDA)\n",
        "\n",
        "# Analyze the distribution of ratings\n",
        "plt.figure(figsize=(10, 6))\n",
        "train['rating'].hist(bins=50)\n",
        "plt.title('Distribution of Ratings')\n",
        "plt.xlabel('Rating')\n",
        "plt.ylabel('Frequency')\n",
        "plt.show()\n",
        "\n",
        "# Visualize the number of ratings per user\n",
        "ratings_per_user = train.groupby('userId').size()\n",
        "plt.figure(figsize=(10, 6))\n",
        "ratings_per_user.hist(bins=50)\n",
        "plt.title('Number of Ratings per User')\n",
        "plt.xlabel('Number of Ratings')\n",
        "plt.ylabel('Frequency')\n",
        "plt.show()\n",
        "\n",
        "# Visualize the number of ratings per movie\n",
        "ratings_per_movie = train.groupby('movieId').size()\n",
        "plt.figure(figsize=(10, 6))\n",
        "ratings_per_movie.hist(bins=50)\n",
        "plt.title('Number of Ratings per Movie')\n",
        "plt.xlabel('Number of Ratings')\n",
        "plt.ylabel('Frequency')\n",
        "plt.show()\n",
        "\n",
        "# Explore relationships between different features (e.g., genres, tags)\n",
        "genres = movies['genres'].str.get_dummies('|').sum().sort_values(ascending=False)\n",
        "plt.figure(figsize=(14, 7))\n",
        "genres.plot(kind='bar')\n",
        "plt.title('Distribution of Movie Genres')\n",
        "plt.xlabel('Genre')\n",
        "plt.ylabel('Count')\n",
        "plt.show()\n",
        "\n",
        "tags['tag'].value_counts().head(20).plot(kind='bar', figsize=(14, 7))\n",
        "plt.title('Top 20 Tags')\n",
        "plt.xlabel('Tag')\n",
        "plt.ylabel('Count')\n",
        "plt.show()\n",
        "\n",
        "# Step 3: Data Cleaning\n",
        "\n",
        "# Check for missing values\n",
        "print(train.isnull().sum())\n",
        "print(test.isnull().sum())\n",
        "print(movies.isnull().sum())\n",
        "print(tags.isnull().sum())\n",
        "print(links.isnull().sum())\n",
        "print(genome_scores.isnull().sum())\n",
        "print(genome_tags.isnull().sum())\n",
        "print(imdb_data.isnull().sum())\n",
        "\n",
        "# Example of handling missing values in IMDB data\n",
        "imdb_data.fillna('', inplace=True)  # or use other imputation methods\n",
        "\n",
        "# Ensure data types are correct\n",
        "train['timestamp'] = pd.to_datetime(train['timestamp'], unit='s')\n",
        "tags['timestamp'] = pd.to_datetime(tags['timestamp'], unit='s')\n",
        "\n",
        "# Encode genres as a list\n",
        "movies['genres'] = movies['genres'].apply(lambda x: x.split('|'))\n",
        "\n",
        "# Step 4: Feature Engineering\n",
        "\n",
        "# Example: Average rating per movie\n",
        "movie_avg_rating = train.groupby('movieId')['rating'].mean().reset_index()\n",
        "movie_avg_rating.columns = ['movieId', 'avg_rating']\n",
        "\n",
        "# Example: Number of ratings per movie\n",
        "movie_rating_count = train.groupby('movieId')['rating'].count().reset_index()\n",
        "movie_rating_count.columns = ['movieId', 'rating_count']\n",
        "\n",
        "# Merge these features with the original movies dataframe\n",
        "movies = movies.merge(movie_avg_rating, on='movieId', how='left')\n",
        "movies = movies.merge(movie_rating_count, on='movieId', how='left')\n",
        "\n",
        "# Step 5: Model Building\n",
        "\n",
        "# Load the data into Surprise format\n",
        "reader = Reader(rating_scale=(0.5, 5.0))\n",
        "data = Dataset.load_from_df(train[['userId', 'movieId', 'rating']], reader)\n",
        "\n",
        "# Use SVD algorithm for recommendation\n",
        "svd = SVD()\n",
        "\n",
        "# Evaluate the model\n",
        "cross_validate(svd, data, measures=['RMSE', 'MAE'], cv=5, verbose=True)\n",
        "\n",
        "# Step 6: Prediction and Submission\n",
        "\n",
        "# Train the model on the entire dataset\n",
        "trainset = data.build_full_trainset()\n",
        "svd.fit(trainset)\n",
        "\n",
        "# Predict ratings for the test set\n",
        "test['rating'] = test.apply(lambda x: svd.predict(x['userId'], x['movieId']).est, axis=1)\n",
        "\n",
        "# Create submission file\n",
        "test['Id'] = test['userId'].astype(str) + '_' + test['movieId'].astype(str)\n",
        "submission = test[['Id', 'rating']]\n",
        "\n",
        "# Save to CSV\n",
        "submission.to_csv('submission.csv', index=False)\n"
      ],
      "metadata": {
        "id": "JPdS9m4cKABb",
        "colab": {
          "base_uri": "https://localhost:8080/",
          "height": 410
        },
        "outputId": "165ef098-d41e-45d8-bb7b-c5b7b43eb1d6"
      },
      "id": "JPdS9m4cKABb",
      "execution_count": 3,
      "outputs": [
        {
          "output_type": "error",
          "ename": "ModuleNotFoundError",
          "evalue": "No module named 'surprise'",
          "traceback": [
            "\u001b[0;31m---------------------------------------------------------------------------\u001b[0m",
            "\u001b[0;31mModuleNotFoundError\u001b[0m                       Traceback (most recent call last)",
            "\u001b[0;32m<ipython-input-3-0e420563b2e6>\u001b[0m in \u001b[0;36m<cell line: 6>\u001b[0;34m()\u001b[0m\n\u001b[1;32m      4\u001b[0m \u001b[0;32mimport\u001b[0m \u001b[0mmatplotlib\u001b[0m\u001b[0;34m.\u001b[0m\u001b[0mpyplot\u001b[0m \u001b[0;32mas\u001b[0m \u001b[0mplt\u001b[0m\u001b[0;34m\u001b[0m\u001b[0;34m\u001b[0m\u001b[0m\n\u001b[1;32m      5\u001b[0m \u001b[0;31m# Packages for modeling\u001b[0m\u001b[0;34m\u001b[0m\u001b[0;34m\u001b[0m\u001b[0m\n\u001b[0;32m----> 6\u001b[0;31m \u001b[0;32mimport\u001b[0m \u001b[0msurprise\u001b[0m\u001b[0;34m\u001b[0m\u001b[0;34m\u001b[0m\u001b[0m\n\u001b[0m\u001b[1;32m      7\u001b[0m \u001b[0;32mfrom\u001b[0m \u001b[0msurprise\u001b[0m \u001b[0;32mimport\u001b[0m \u001b[0mReader\u001b[0m\u001b[0;34m\u001b[0m\u001b[0;34m\u001b[0m\u001b[0m\n\u001b[1;32m      8\u001b[0m \u001b[0;32mfrom\u001b[0m \u001b[0msurprise\u001b[0m \u001b[0;32mimport\u001b[0m \u001b[0mDataset\u001b[0m\u001b[0;34m\u001b[0m\u001b[0;34m\u001b[0m\u001b[0m\n",
            "\u001b[0;31mModuleNotFoundError\u001b[0m: No module named 'surprise'",
            "",
            "\u001b[0;31m---------------------------------------------------------------------------\u001b[0;32m\nNOTE: If your import is failing due to a missing package, you can\nmanually install dependencies using either !pip or !apt.\n\nTo view examples of installing some common dependencies, click the\n\"Open Examples\" button below.\n\u001b[0;31m---------------------------------------------------------------------------\u001b[0m\n"
          ],
          "errorDetails": {
            "actions": [
              {
                "action": "open_url",
                "actionText": "Open Examples",
                "url": "/notebooks/snippets/importing_libraries.ipynb"
              }
            ]
          }
        }
      ]
    },
    {
      "cell_type": "code",
      "source": [
        "!pip install scikit-surprise"
      ],
      "metadata": {
        "colab": {
          "base_uri": "https://localhost:8080/"
        },
        "id": "hQ1DwNwzE74r",
        "outputId": "3129625a-bf87-4d3a-c034-a012cf4cb1a0"
      },
      "id": "hQ1DwNwzE74r",
      "execution_count": 4,
      "outputs": [
        {
          "output_type": "stream",
          "name": "stdout",
          "text": [
            "Collecting scikit-surprise\n",
            "  Downloading scikit_surprise-1.1.4.tar.gz (154 kB)\n",
            "\u001b[2K     \u001b[90m━━━━━━━━━━━━━━━━━━━━━━━━━━━━━━━━━━━━━━━━\u001b[0m \u001b[32m154.4/154.4 kB\u001b[0m \u001b[31m3.1 MB/s\u001b[0m eta \u001b[36m0:00:00\u001b[0m\n",
            "\u001b[?25h  Installing build dependencies ... \u001b[?25l\u001b[?25hdone\n",
            "  Getting requirements to build wheel ... \u001b[?25l\u001b[?25hdone\n",
            "  Preparing metadata (pyproject.toml) ... \u001b[?25l\u001b[?25hdone\n",
            "Requirement already satisfied: joblib>=1.2.0 in /usr/local/lib/python3.10/dist-packages (from scikit-surprise) (1.4.2)\n",
            "Requirement already satisfied: numpy>=1.19.5 in /usr/local/lib/python3.10/dist-packages (from scikit-surprise) (1.25.2)\n",
            "Requirement already satisfied: scipy>=1.6.0 in /usr/local/lib/python3.10/dist-packages (from scikit-surprise) (1.11.4)\n",
            "Building wheels for collected packages: scikit-surprise\n",
            "  Building wheel for scikit-surprise (pyproject.toml) ... \u001b[?25l\u001b[?25hdone\n",
            "  Created wheel for scikit-surprise: filename=scikit_surprise-1.1.4-cp310-cp310-linux_x86_64.whl size=2357239 sha256=ac701af90e41a884345c53d01c4c1f4b22cf7c57ae8f620e9f91df4fc92cc054\n",
            "  Stored in directory: /root/.cache/pip/wheels/4b/3f/df/6acbf0a40397d9bf3ff97f582cc22fb9ce66adde75bc71fd54\n",
            "Successfully built scikit-surprise\n",
            "Installing collected packages: scikit-surprise\n",
            "Successfully installed scikit-surprise-1.1.4\n"
          ]
        }
      ]
    },
    {
      "cell_type": "code",
      "source": [
        "import pandas as pd\n",
        "import numpy as np\n",
        "import matplotlib.pyplot as plt\n",
        "from surprise import Dataset, Reader, SVD\n",
        "from surprise.model_selection import cross_validate\n",
        "\n",
        "# Step 1: Data Loading and Initial Exploration\n",
        "\n",
        "# Load the datasets\n",
        "train = pd.read_csv('/content/sample_data/train.csv')\n",
        "test = pd.read_csv('/content/sample_data/test.csv')\n",
        "movies = pd.read_csv('/content/sample_data/movies.csv')\n",
        "tags = pd.read_csv('/content/sample_data/tags.csv')\n",
        "links = pd.read_csv('/content/sample_data/links.csv')\n",
        "genome_scores = pd.read_csv('/content/sample_data/genome_scores.csv')\n",
        "genome_tags = pd.read_csv('/content/sample_data/genome_tags.csv')\n",
        "imdb_data = pd.read_csv('/content/sample_data/imdb_data.csv')"
      ],
      "metadata": {
        "id": "7sIxp3xLD2xW"
      },
      "id": "7sIxp3xLD2xW",
      "execution_count": 5,
      "outputs": []
    },
    {
      "cell_type": "code",
      "source": [
        "\n",
        "# Display the first few rows of each dataset\n",
        "print(\"Train Data:\")\n",
        "print(train.head())\n",
        "\n",
        "print(\"\\nTest Data:\")\n",
        "print(test.head())\n",
        "\n",
        "print(\"\\nMovies Data:\")\n",
        "print(movies.head())\n",
        "\n",
        "print(\"\\nTags Data:\")\n",
        "print(tags.head())\n",
        "\n",
        "print(\"\\nLinks Data:\")\n",
        "print(links.head())\n",
        "\n",
        "print(\"\\nGenome Scores Data:\")\n",
        "print(genome_scores.head())\n",
        "\n",
        "print(\"\\nGenome Tags Data:\")\n",
        "print(genome_tags.head())\n",
        "\n",
        "print(\"\\nIMDB Data:\")\n",
        "print(imdb_data.head())"
      ],
      "metadata": {
        "colab": {
          "base_uri": "https://localhost:8080/"
        },
        "id": "-Uzi5VOoD3or",
        "outputId": "1cc78f79-a533-4ffd-a6c3-816c7576fc2f"
      },
      "id": "-Uzi5VOoD3or",
      "execution_count": 6,
      "outputs": [
        {
          "output_type": "stream",
          "name": "stdout",
          "text": [
            "Train Data:\n",
            "   userId  movieId  rating   timestamp\n",
            "0    5163    57669     4.0  1518349992\n",
            "1  106343        5     4.5  1206238739\n",
            "2  146790     5459     5.0  1076215539\n",
            "3  106362    32296     2.0  1423042565\n",
            "4    9041      366     3.0   833375837\n",
            "\n",
            "Test Data:\n",
            "   userId  movieId\n",
            "0       1     2011\n",
            "1       1     4144\n",
            "2       1     5767\n",
            "3       1     6711\n",
            "4       1     7318\n",
            "\n",
            "Movies Data:\n",
            "   movieId                               title  \\\n",
            "0        1                    Toy Story (1995)   \n",
            "1        2                      Jumanji (1995)   \n",
            "2        3             Grumpier Old Men (1995)   \n",
            "3        4            Waiting to Exhale (1995)   \n",
            "4        5  Father of the Bride Part II (1995)   \n",
            "\n",
            "                                        genres  \n",
            "0  Adventure|Animation|Children|Comedy|Fantasy  \n",
            "1                   Adventure|Children|Fantasy  \n",
            "2                               Comedy|Romance  \n",
            "3                         Comedy|Drama|Romance  \n",
            "4                                       Comedy  \n",
            "\n",
            "Tags Data:\n",
            "   userId  movieId               tag   timestamp\n",
            "0       3      260           classic  1439472355\n",
            "1       3      260            sci-fi  1439472256\n",
            "2       4     1732       dark comedy  1573943598\n",
            "3       4     1732    great dialogue  1573943604\n",
            "4       4     7569  so bad it's good  1573943455\n",
            "\n",
            "Links Data:\n",
            "   movieId  imdbId   tmdbId\n",
            "0        1  114709    862.0\n",
            "1        2  113497   8844.0\n",
            "2        3  113228  15602.0\n",
            "3        4  114885  31357.0\n",
            "4        5  113041  11862.0\n",
            "\n",
            "Genome Scores Data:\n",
            "   movieId  tagId  relevance\n",
            "0        1      1    0.02875\n",
            "1        1      2    0.02375\n",
            "2        1      3    0.06250\n",
            "3        1      4    0.07575\n",
            "4        1      5    0.14075\n",
            "\n",
            "Genome Tags Data:\n",
            "   tagId           tag\n",
            "0      1           007\n",
            "1      2  007 (series)\n",
            "2      3  18th century\n",
            "3      4         1920s\n",
            "4      5         1930s\n",
            "\n",
            "IMDB Data:\n",
            "   movieId                                         title_cast  \\\n",
            "0        1  Tom Hanks|Tim Allen|Don Rickles|Jim Varney|Wal...   \n",
            "1        2  Robin Williams|Jonathan Hyde|Kirsten Dunst|Bra...   \n",
            "2        3  Walter Matthau|Jack Lemmon|Sophia Loren|Ann-Ma...   \n",
            "3        4  Whitney Houston|Angela Bassett|Loretta Devine|...   \n",
            "4        5  Steve Martin|Diane Keaton|Martin Short|Kimberl...   \n",
            "\n",
            "              director  runtime       budget  \\\n",
            "0        John Lasseter     81.0  $30,000,000   \n",
            "1   Jonathan Hensleigh    104.0  $65,000,000   \n",
            "2  Mark Steven Johnson    101.0  $25,000,000   \n",
            "3       Terry McMillan    124.0  $16,000,000   \n",
            "4       Albert Hackett    106.0  $30,000,000   \n",
            "\n",
            "                                       plot_keywords  \n",
            "0                   toy|rivalry|cowboy|cgi animation  \n",
            "1                   board game|adventurer|fight|game  \n",
            "2                         boat|lake|neighbor|rivalry  \n",
            "3  black american|husband wife relationship|betra...  \n",
            "4                    fatherhood|doberman|dog|mansion  \n"
          ]
        }
      ]
    },
    {
      "cell_type": "code",
      "source": [
        "\n",
        "# Step 2: Exploratory Data Analysis (EDA)\n",
        "\n",
        "# Analyze the distribution of ratings\n",
        "plt.figure(figsize=(10, 6))\n",
        "train['rating'].hist(bins=50)\n",
        "plt.title('Distribution of Ratings')\n",
        "plt.xlabel('Rating')\n",
        "plt.ylabel('Frequency')\n",
        "plt.show()\n",
        "\n",
        "# Visualize the number of ratings per user\n",
        "ratings_per_user = train.groupby('userId').size()\n",
        "plt.figure(figsize=(10, 6))\n",
        "ratings_per_user.hist(bins=50)\n",
        "plt.title('Number of Ratings per User')\n",
        "plt.xlabel('Number of Ratings')\n",
        "plt.ylabel('Frequency')\n",
        "plt.show()\n",
        "\n",
        "# Visualize the number of ratings per movie\n",
        "ratings_per_movie = train.groupby('movieId').size()\n",
        "plt.figure(figsize=(10, 6))\n",
        "ratings_per_movie.hist(bins=50)\n",
        "plt.title('Number of Ratings per Movie')\n",
        "plt.xlabel('Number of Ratings')\n",
        "plt.ylabel('Frequency')\n",
        "plt.show()\n",
        "\n",
        "# Explore relationships between different features (e.g., genres, tags)\n",
        "genres = movies['genres'].str.get_dummies('|').sum().sort_values(ascending=False)\n",
        "plt.figure(figsize=(14, 7))\n",
        "genres.plot(kind='bar')\n",
        "plt.title('Distribution of Movie Genres')\n",
        "plt.xlabel('Genre')\n",
        "plt.ylabel('Count')\n",
        "plt.show()\n",
        "\n",
        "tags['tag'].value_counts().head(20).plot(kind='bar', figsize=(14, 7))\n",
        "plt.title('Top 20 Tags')\n",
        "plt.xlabel('Tag')\n",
        "plt.ylabel('Count')\n",
        "plt.show()\n"
      ],
      "metadata": {
        "colab": {
          "base_uri": "https://localhost:8080/",
          "height": 1000
        },
        "id": "aBdOluh9EJfR",
        "outputId": "340ee435-db90-4894-bdfd-c34ea736a3a7"
      },
      "id": "aBdOluh9EJfR",
      "execution_count": 7,
      "outputs": [
        {
          "output_type": "display_data",
          "data": {
            "text/plain": [
              "<Figure size 1000x600 with 1 Axes>"
            ],
            "image/png": "[encoded data removed]"
          },
          "metadata": {}
        },
        {
          "output_type": "display_data",
          "data": {
            "text/plain": [
              "<Figure size 1000x600 with 1 Axes>"
            ],
            "image/png": "[encoded data removed]"
          },
          "metadata": {}
        },
        {
          "output_type": "display_data",
          "data": {
            "text/plain": [
              "<Figure size 1000x600 with 1 Axes>"
            ],
            "image/png": "[encoded data removed]"
          },
          "metadata": {}
        },
        {
          "output_type": "display_data",
          "data": {
            "text/plain": [
              "<Figure size 1400x700 with 1 Axes>"
            ],
            "image/png": "[encoded data removed]"
          },
          "metadata": {}
        },
        {
          "output_type": "display_data",
          "data": {
            "text/plain": [
              "<Figure size 1400x700 with 1 Axes>"
            ],
            "image/png": "[encoded data removed]"
          },
          "metadata": {}
        }
      ]
    },
    {
      "cell_type": "code",
      "source": [
        "# Step 3: Data Cleaning\n",
        "\n",
        "# Check for missing values\n",
        "print(train.isnull().sum())\n",
        "print(test.isnull().sum())\n",
        "print(movies.isnull().sum())\n",
        "print(tags.isnull().sum())\n",
        "print(links.isnull().sum())\n",
        "print(genome_scores.isnull().sum())\n",
        "print(genome_tags.isnull().sum())\n",
        "print(imdb_data.isnull().sum())\n",
        "\n",
        "# Example of handling missing values in IMDB data\n",
        "imdb_data.fillna('', inplace=True)  # or use other imputation methods\n",
        "\n",
        "# Ensure data types are correct\n",
        "train['timestamp'] = pd.to_datetime(train['timestamp'], unit='s')\n",
        "tags['timestamp'] = pd.to_datetime(tags['timestamp'], unit='s')\n",
        "\n",
        "# Encode genres as a list\n",
        "movies['genres'] = movies['genres'].apply(lambda x: x.split('|'))"
      ],
      "metadata": {
        "colab": {
          "base_uri": "https://localhost:8080/"
        },
        "id": "DXp3ZYtyE9we",
        "outputId": "c547a60f-bd3c-4307-9c54-8f2548e41831"
      },
      "id": "DXp3ZYtyE9we",
      "execution_count": 8,
      "outputs": [
        {
          "output_type": "stream",
          "name": "stdout",
          "text": [
            "userId       0\n",
            "movieId      0\n",
            "rating       0\n",
            "timestamp    0\n",
            "dtype: int64\n",
            "userId     0\n",
            "movieId    0\n",
            "dtype: int64\n",
            "movieId    0\n",
            "title      0\n",
            "genres     0\n",
            "dtype: int64\n",
            "userId        0\n",
            "movieId       0\n",
            "tag          16\n",
            "timestamp     0\n",
            "dtype: int64\n",
            "movieId      0\n",
            "imdbId       0\n",
            "tmdbId     107\n",
            "dtype: int64\n",
            "movieId      0\n",
            "tagId        0\n",
            "relevance    0\n",
            "dtype: int64\n",
            "tagId    0\n",
            "tag      0\n",
            "dtype: int64\n",
            "movieId              0\n",
            "title_cast       10068\n",
            "director          9874\n",
            "runtime          12089\n",
            "budget           19372\n",
            "plot_keywords    11078\n",
            "dtype: int64\n"
          ]
        }
      ]
    },
    {
      "cell_type": "code",
      "source": [
        "# Step 4: Feature Engineering\n",
        "\n",
        "# Example: Average rating per movie\n",
        "movie_avg_rating = train.groupby('movieId')['rating'].mean().reset_index()\n",
        "movie_avg_rating.columns = ['movieId', 'avg_rating']\n",
        "\n",
        "# Example: Number of ratings per movie\n",
        "movie_rating_count = train.groupby('movieId')['rating'].count().reset_index()\n",
        "movie_rating_count.columns = ['movieId', 'rating_count']\n",
        "\n",
        "# Merge these features with the original movies dataframe\n",
        "movies = movies.merge(movie_avg_rating, on='movieId', how='left')\n",
        "movies = movies.merge(movie_rating_count, on='movieId', how='left')"
      ],
      "metadata": {
        "id": "awhytiwsFFP_"
      },
      "id": "awhytiwsFFP_",
      "execution_count": 9,
      "outputs": []
    },
    {
      "cell_type": "code",
      "source": [
        "# Step 5: Model Building\n",
        "\n",
        "# Load the data into Surprise format\n",
        "reader = Reader(rating_scale=(0.5, 5.0))\n",
        "data = Dataset.load_from_df(train[['userId', 'movieId', 'rating']], reader)\n",
        "\n",
        "# Use SVD algorithm for recommendation\n",
        "svd = SVD()\n",
        "\n",
        "# Evaluate the model\n",
        "cross_validate(svd, data, measures=['RMSE', 'MAE'], cv=5, verbose=True)\n",
        "\n",
        "# Step 6: Prediction and Submission\n",
        "\n",
        "# Train the model on the entire dataset\n",
        "trainset = data.build_full_trainset()\n",
        "svd.fit(trainset)\n",
        "\n",
        "# Predict ratings for the test set\n",
        "test['rating'] = test.apply(lambda x: svd.predict(x['userId'], x['movieId']).est, axis=1)\n",
        "\n",
        "# Create submission file\n",
        "test['Id'] = test['userId'].astype(str) + '_' + test['movieId'].astype(str)\n",
        "submission = test[['Id', 'rating']]\n",
        "\n",
        "# Save to CSV\n",
        "submission.to_csv('submission.csv', index=False)"
      ],
      "metadata": {
        "colab": {
          "base_uri": "https://localhost:8080/"
        },
        "id": "WJbic0QCFNI0",
        "outputId": "ce72ea5c-57a9-46fa-abb5-a3d5a50d1190"
      },
      "id": "WJbic0QCFNI0",
      "execution_count": 10,
      "outputs": [
        {
          "output_type": "stream",
          "name": "stdout",
          "text": [
            "Evaluating RMSE, MAE of algorithm SVD on 5 split(s).\n",
            "\n",
            "                  Fold 1  Fold 2  Fold 3  Fold 4  Fold 5  Mean    Std     \n",
            "RMSE (testset)    0.8329  0.8351  0.8352  0.8349  0.8327  0.8342  0.0011  \n",
            "MAE (testset)     0.6322  0.6336  0.6341  0.6335  0.6323  0.6331  0.0007  \n",
            "Fit time          251.65  256.36  262.42  264.22  261.09  259.15  4.56    \n",
            "Test time         56.30   46.68   51.36   49.65   53.68   51.53   3.30    \n"
          ]
        }
      ]
    },
    {
      "cell_type": "code",
      "source": [
        "submission.to_csv('/content/sample_data/submission.csv', index=False)"
      ],
      "metadata": {
        "id": "n-NmWSbcgScW"
      },
      "id": "n-NmWSbcgScW",
      "execution_count": 11,
      "outputs": []
    },
    {
      "cell_type": "code",
      "source": [],
      "metadata": {
        "colab": {
          "base_uri": "https://localhost:8080/"
        },
        "id": "G7fjSKqUqYQ5",
        "outputId": "431785c8-3c19-4cab-cf75-c97af50045e8"
      },
      "id": "G7fjSKqUqYQ5",
      "execution_count": 1,
      "outputs": [
        {
          "output_type": "stream",
          "name": "stdout",
          "text": [
            "Mounted at /content/drive\n"
          ]
        }
      ]
    }
  ],
  "metadata": {
    "kernelspec": {
      "display_name": "Python 3 (ipykernel)",
      "language": "python",
      "name": "python3"
    },
    "language_info": {
      "codemirror_mode": {
        "name": "ipython",
        "version": 3
      },
      "file_extension": ".py",
      "mimetype": "text/x-python",
      "name": "python",
      "nbconvert_exporter": "python",
      "pygments_lexer": "ipython3",
      "version": "3.11.4"
    },
    "papermill": {
      "default_parameters": {},
      "duration": 27.559281,
      "end_time": "2021-06-14T11:20:10.319911",
      "environment_variables": {},
      "exception": null,
      "input_path": "__notebook__.ipynb",
      "output_path": "__notebook__.ipynb",
      "parameters": {},
      "start_time": "2021-06-14T11:19:42.760630",
      "version": "2.3.3"
    },
    "colab": {
      "provenance": [],
      "include_colab_link": true
    }
  },
  "nbformat": 4,
  "nbformat_minor": 5
}